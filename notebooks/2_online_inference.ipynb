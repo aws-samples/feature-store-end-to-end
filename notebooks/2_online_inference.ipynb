{
 "cells": [
  {
   "cell_type": "markdown",
   "id": "999757bb",
   "metadata": {},
   "source": [
    "# Online Inference\n",
    "\n",
    "This notebook simulates an online inference pipeline by publishing data to a Kinesis stream which is picked up by an associated Lambda function and this Lambda function joins this data with additional data from an online feature store and then invokes a SageMaker endpoint to get inference in real-time.\n"
   ]
  },
  {
   "cell_type": "code",
   "execution_count": 174,
   "id": "fdaeaefc",
   "metadata": {},
   "outputs": [],
   "source": [
    "from pathlib import Path\n",
    "import pandas as pd\n",
    "import logging\n",
    "import boto3\n",
    "import json\n",
    "import sys\n",
    "import os"
   ]
  },
  {
   "cell_type": "code",
   "execution_count": 175,
   "id": "69afbc94",
   "metadata": {},
   "outputs": [
    {
     "name": "stdout",
     "output_type": "stream",
     "text": [
      "/home/ec2-user/SageMaker/feature-store-expedia/utils\n"
     ]
    }
   ],
   "source": [
    "# import from a different path\n",
    "path = Path(os.path.abspath(os.getcwd()))\n",
    "package_dir = f'{str(path.parent)}/utils'\n",
    "print(package_dir)\n",
    "sys.path.insert(0, package_dir)\n",
    "import utils"
   ]
  },
  {
   "cell_type": "markdown",
   "id": "ddfded82",
   "metadata": {},
   "source": [
    "## Setup logging"
   ]
  },
  {
   "cell_type": "code",
   "execution_count": 176,
   "id": "d202141f",
   "metadata": {},
   "outputs": [],
   "source": [
    "logger = logging.getLogger('__name__')\n",
    "logging.basicConfig(format=\"%(asctime)s,%(filename)s,%(funcName)s,%(lineno)s,%(levelname)s,p%(process)s,%(message)s\", level=logging.INFO)       "
   ]
  },
  {
   "cell_type": "markdown",
   "id": "0f7d37f5",
   "metadata": {},
   "source": [
    "## Global constants"
   ]
  },
  {
   "cell_type": "code",
   "execution_count": 177,
   "id": "2cc91b8e",
   "metadata": {},
   "outputs": [],
   "source": [
    "# global constants\n",
    "STACK_NAME = \"expedia-feature-store-demo-v2\"\n",
    "LOCAL_DATA_DIR = \"../data\"\n",
    "DESTINATION_FEATURES = \"pc1,pc2,pc3\"\n",
    "PREDICTED_VARIABLE = \"hotel_cluster_predicted\"\n",
    "RECORDS_TO_STREAM = 5\n",
    "PK = 'user_id' # partition key for kinesis stream"
   ]
  },
  {
   "cell_type": "markdown",
   "id": "281e1ff8",
   "metadata": {},
   "source": [
    "## Setup config variables"
   ]
  },
  {
   "cell_type": "code",
   "execution_count": 178,
   "id": "96d698be",
   "metadata": {},
   "outputs": [
    {
     "name": "stderr",
     "output_type": "stream",
     "text": [
      "/home/ec2-user/anaconda3/envs/python3/lib/python3.6/site-packages/boto3/compat.py:88: PythonDeprecationWarning: Boto3 will no longer support Python 3.6 starting May 30, 2022. To continue receiving service updates, bug fixes, and security updates please upgrade to Python 3.7 or later. More information can be found here: https://aws.amazon.com/blogs/developer/python-support-policy-updates-for-aws-sdks-and-tools/\n",
      "  warnings.warn(warning, PythonDeprecationWarning)\n",
      "2022-06-10 02:32:24,829,<ipython-input-178-4992a499e393>,<module>,10,INFO,p7027,data_bucket_name=expedia-customer-behavior-data-195cbf60,\n",
      "athena_query_results_bucket_name=athena-query-results-195cbf60,\n",
      "model_bucket_name=expedia-ml-models-195cbf60\n",
      "feature_store_bucket_name=expedia-feature-store-offline-195cbf60,\n",
      "hotel_cluster_prediction_fn_arn=arn:aws:lambda:us-east-1:015469603702:function:PredictHotelCluster\n",
      "hotel_cluster_prediction_ddb_table_name=ExpediaPerCustomerHotelClusterPredictions\n"
     ]
    }
   ],
   "source": [
    "# read output variables from cloud formation stack, these will be used as parameters throughout\n",
    "# the code\n",
    "data_bucket_name = utils.get_cfn_stack_outputs(STACK_NAME, 'DataBucketName')\n",
    "model_bucket_name = utils.get_cfn_stack_outputs(STACK_NAME, 'MLModelBucketName')\n",
    "athena_query_results_bucket_name = utils.get_cfn_stack_outputs(STACK_NAME, 'AthenaQueryResultsBucketName')\n",
    "feature_store_bucket_name = utils.get_cfn_stack_outputs(STACK_NAME, 'FeatureStoreBucketName')\n",
    "hotel_cluster_prediction_fn_arn = utils.get_cfn_stack_outputs(STACK_NAME, 'HotelClusterPredictionFunction')\n",
    "hotel_cluster_prediction_ddb_table_name = utils.get_cfn_stack_outputs(STACK_NAME, 'HotelClusterPredictionsTableName')\n",
    "\n",
    "logger.info(f\"data_bucket_name={data_bucket_name},\\nathena_query_results_bucket_name={athena_query_results_bucket_name},\\n\"\n",
    "            f\"model_bucket_name={model_bucket_name}\\nfeature_store_bucket_name={feature_store_bucket_name},\\n\"\n",
    "            f\"hotel_cluster_prediction_fn_arn={hotel_cluster_prediction_fn_arn}\\nhotel_cluster_prediction_ddb_table_name={hotel_cluster_prediction_ddb_table_name}\")"
   ]
  },
  {
   "cell_type": "code",
   "execution_count": 179,
   "id": "23316b11",
   "metadata": {},
   "outputs": [
    {
     "name": "stderr",
     "output_type": "stream",
     "text": [
      "2022-06-10 02:32:24,847,utils.py,read_param,130,INFO,p7027,read_param, fpath=../config/customer_inputs_fg_name, read customer_inputs_fg_name=expedia-customer-inputs-2022-6-8-15-0\n",
      "2022-06-10 02:32:24,848,utils.py,read_param,130,INFO,p7027,read_param, fpath=../config/destinations_fg_name, read destinations_fg_name=expedia-destinations-2022-6-8-15-0\n",
      "2022-06-10 02:32:24,849,utils.py,read_param,130,INFO,p7027,read_param, fpath=../config/customer_inputs_fg_table, read customer_inputs_fg_table=expedia-customer-inputs-2022-6-8-15-0-1654700956\n",
      "2022-06-10 02:32:24,851,utils.py,read_param,130,INFO,p7027,read_param, fpath=../config/destinations_fg_table, read destinations_fg_table=expedia-destinations-2022-6-8-15-0-1654701052\n",
      "2022-06-10 02:32:24,851,utils.py,read_param,130,INFO,p7027,read_param, fpath=../config/customer_inputs_fg_name, read customer_inputs_fg_name=expedia-customer-inputs-2022-6-8-15-0\n",
      "2022-06-10 02:32:24,853,utils.py,read_param,130,INFO,p7027,read_param, fpath=../config/endpoint_name, read endpoint_name=hotel-cluster-prediction-ml-model-2022-06-08-19-12-46-266\n",
      "2022-06-10 02:32:25,813,<ipython-input-179-e9567040703d>,<module>,27,INFO,p7027,customer_inputs_fg_table=expedia-customer-inputs-2022-6-8-15-0-1654700956,\n",
      "destinations_fg_table=expedia-destinations-2022-6-8-15-0-1654701052,\n",
      "customer_inputs_fg_name=expedia-customer-inputs-2022-6-8-15-0,\n",
      "destinations_fg_name=expedia-destinations-2022-6-8-15-0\n",
      "raw_data_dir=raw_data,\n",
      "training_dataset_fname=train.csv,\n",
      "test_dataset_fname=test.csv,\n",
      "validation_dataset_fname=-validation.csv\n",
      "training_job_instance_type=ml.m5.xlarge,\n",
      "training_job_instance_count=2,\n",
      "model_ep_instance_type=ml.m5.xlarge,\n",
      "model_ep_instance_count=2,\n",
      "customer_input_stream_name=expedia-customer-input-realtime\n"
     ]
    }
   ],
   "source": [
    "# read outputs from previous notebooks that are needed by this notebook.\n",
    "# these are available as local files.\n",
    "customer_inputs_fg_name = utils.read_param(\"customer_inputs_fg_name\")\n",
    "destinations_fg_name = utils.read_param(\"destinations_fg_name\")\n",
    "customer_inputs_fg_table = utils.read_param(\"customer_inputs_fg_table\")\n",
    "destinations_fg_table = utils.read_param(\"destinations_fg_table\")\n",
    "customer_inputs_fg_name = utils.read_param(\"customer_inputs_fg_name\")\n",
    "ml_model_endpoint_name = utils.read_param(\"endpoint_name\")\n",
    "\n",
    "# read params from the cloud formation stack\n",
    "raw_data_dir = utils.get_cfn_stack_parameters(STACK_NAME, 'RawDataDir')\n",
    "app_name = utils.get_cfn_stack_parameters(STACK_NAME, 'AppName')\n",
    "\n",
    "training_dataset_fname = utils.get_cfn_stack_parameters(STACK_NAME, 'TrainingDatasetFileName')\n",
    "test_dataset_fname = utils.get_cfn_stack_parameters(STACK_NAME, 'TestDatasetFileName')\n",
    "validation_dataset_fname = utils.get_cfn_stack_parameters(STACK_NAME, 'ValidationDatasetFileName')\n",
    "\n",
    "training_job_instance_type = utils.get_cfn_stack_parameters(STACK_NAME, 'TrainingJobInstanceType')\n",
    "if training_job_instance_type is None:\n",
    "    training_job_instance_type = \"ml.m5.xlarge\"\n",
    "training_job_instance_count = int(utils.get_cfn_stack_parameters(STACK_NAME, 'TrainingJobNodeInstanceCount'))\n",
    "\n",
    "model_ep_instance_type = utils.get_cfn_stack_parameters(STACK_NAME, 'ModelEndpointInstanceType')\n",
    "model_ep_instance_count = int(utils.get_cfn_stack_parameters(STACK_NAME, 'ModelEndpointInstanceCount'))\n",
    "\n",
    "customer_input_stream_name = utils.get_cfn_stack_parameters(STACK_NAME, 'CustomerInputStreamName')\n",
    "            \n",
    "logger.info(f\"customer_inputs_fg_table={customer_inputs_fg_table},\\ndestinations_fg_table={destinations_fg_table},\\n\"\n",
    "            f\"customer_inputs_fg_name={customer_inputs_fg_name},\\ndestinations_fg_name={destinations_fg_name}\\n\"\n",
    "            f\"raw_data_dir={raw_data_dir},\\ntraining_dataset_fname={training_dataset_fname},\\n\"\n",
    "            f\"test_dataset_fname={test_dataset_fname},\\nvalidation_dataset_fname=-{validation_dataset_fname}\\n\"\n",
    "            f\"training_job_instance_type={training_job_instance_type},\\ntraining_job_instance_count={training_job_instance_count},\\n\"\n",
    "            f\"model_ep_instance_type={model_ep_instance_type},\\nmodel_ep_instance_count={model_ep_instance_count},\\ncustomer_input_stream_name={customer_input_stream_name}\")"
   ]
  },
  {
   "cell_type": "markdown",
   "id": "a68ad87d",
   "metadata": {},
   "source": [
    "## Update the lambda function\n",
    "\n",
    "The lambda function handler for the Kinesis stream needs to be updated with the SageMaker endpoint name (this name was not available at the time of deploying the Lambda via the cloud formation template)."
   ]
  },
  {
   "cell_type": "code",
   "execution_count": 180,
   "id": "6dfe7886",
   "metadata": {},
   "outputs": [],
   "source": [
    "# clients for the services we are going to use\n",
    "lambda_client = boto3.client('lambda')"
   ]
  },
  {
   "cell_type": "code",
   "execution_count": 181,
   "id": "00323ada",
   "metadata": {},
   "outputs": [
    {
     "name": "stderr",
     "output_type": "stream",
     "text": [
      "2022-06-10 02:32:26,025,<ipython-input-181-073dbc3e9a62>,<module>,1,INFO,p7027,updating Lambda function with ARN=arn:aws:lambda:us-east-1:015469603702:function:PredictHotelCluster to use ML model endpoint: hotel-cluster-prediction-ml-model-2022-06-08-19-12-46-266\n"
     ]
    }
   ],
   "source": [
    "# we use the environment variables for the lambda as a mechanism for passing config values. \n",
    "# Sagemaker endpoint name, the destinations feature group name etc are all available \n",
    "# as variables in this notebook (read already from local files). In a production environment\n",
    "# these would be read from Parameter Store.\n",
    "\n",
    "logger.info(f'updating Lambda function with ARN={hotel_cluster_prediction_fn_arn} to use ML model endpoint: {ml_model_endpoint_name}')\n",
    "variables = lambda_client.get_function_configuration(FunctionName=hotel_cluster_prediction_fn_arn)['Environment']['Variables']\n",
    "variables['ENDPOINT_NAME'] = ml_model_endpoint_name\n",
    "variables['FG_NAME'] = destinations_fg_name\n",
    "variables['DDB_TABLE_NAME'] = hotel_cluster_prediction_ddb_table_name\n",
    "variables['ONLINE_FEATURE_GROUP_KEY'] = 'srch_destination_id'\n",
    "variables['ONLINE_FEATURE_GROUP_FEATURES_OF_INTEREST'] = DESTINATION_FEATURES\n",
    "variables['PREDICTED_VARIABLE'] = PREDICTED_VARIABLE\n",
    "\n",
    "resp = lambda_client.update_function_configuration(\n",
    "    FunctionName=hotel_cluster_prediction_fn_arn,\n",
    "      Environment={\n",
    "        'Variables': variables\n",
    "    }\n",
    ")"
   ]
  },
  {
   "cell_type": "markdown",
   "id": "be1b0a23",
   "metadata": {},
   "source": [
    "## Stream test data\n",
    "At this point we are all set to stream test data on the Kinesis data stream. This test data is available in a local file."
   ]
  },
  {
   "cell_type": "code",
   "execution_count": 182,
   "id": "7422b1c3",
   "metadata": {},
   "outputs": [
    {
     "name": "stderr",
     "output_type": "stream",
     "text": [
      "2022-06-10 02:32:26,259,<ipython-input-182-0cf1294fdcac>,<module>,4,INFO,p7027,read test data from ../data/test.csv, dataframe shape is (2009, 22)\n"
     ]
    },
    {
     "data": {
      "text/html": [
       "<div>\n",
       "<style scoped>\n",
       "    .dataframe tbody tr th:only-of-type {\n",
       "        vertical-align: middle;\n",
       "    }\n",
       "\n",
       "    .dataframe tbody tr th {\n",
       "        vertical-align: top;\n",
       "    }\n",
       "\n",
       "    .dataframe thead th {\n",
       "        text-align: right;\n",
       "    }\n",
       "</style>\n",
       "<table border=\"1\" class=\"dataframe\">\n",
       "  <thead>\n",
       "    <tr style=\"text-align: right;\">\n",
       "      <th></th>\n",
       "      <th>site_name</th>\n",
       "      <th>posa_continent</th>\n",
       "      <th>user_location_country</th>\n",
       "      <th>user_location_region</th>\n",
       "      <th>user_location_city</th>\n",
       "      <th>orig_destination_distance</th>\n",
       "      <th>user_id</th>\n",
       "      <th>is_mobile</th>\n",
       "      <th>is_package</th>\n",
       "      <th>channel</th>\n",
       "      <th>...</th>\n",
       "      <th>srch_rm_cnt</th>\n",
       "      <th>srch_destination_id</th>\n",
       "      <th>srch_destination_type_id</th>\n",
       "      <th>hotel_continent</th>\n",
       "      <th>hotel_country</th>\n",
       "      <th>hotel_market</th>\n",
       "      <th>duration</th>\n",
       "      <th>days_to_trip</th>\n",
       "      <th>start_of_trip_weekend</th>\n",
       "      <th>end_of_trip_weekend</th>\n",
       "    </tr>\n",
       "  </thead>\n",
       "  <tbody>\n",
       "    <tr>\n",
       "      <th>0</th>\n",
       "      <td>2</td>\n",
       "      <td>3</td>\n",
       "      <td>66</td>\n",
       "      <td>318</td>\n",
       "      <td>8031</td>\n",
       "      <td>1850.5388</td>\n",
       "      <td>838999</td>\n",
       "      <td>0</td>\n",
       "      <td>0</td>\n",
       "      <td>0</td>\n",
       "      <td>...</td>\n",
       "      <td>1</td>\n",
       "      <td>8278</td>\n",
       "      <td>1</td>\n",
       "      <td>2</td>\n",
       "      <td>50</td>\n",
       "      <td>368</td>\n",
       "      <td>2.0</td>\n",
       "      <td>225.0</td>\n",
       "      <td>0</td>\n",
       "      <td>1</td>\n",
       "    </tr>\n",
       "    <tr>\n",
       "      <th>1</th>\n",
       "      <td>2</td>\n",
       "      <td>3</td>\n",
       "      <td>66</td>\n",
       "      <td>351</td>\n",
       "      <td>8978</td>\n",
       "      <td>122.1979</td>\n",
       "      <td>480943</td>\n",
       "      <td>0</td>\n",
       "      <td>0</td>\n",
       "      <td>9</td>\n",
       "      <td>...</td>\n",
       "      <td>1</td>\n",
       "      <td>35125</td>\n",
       "      <td>4</td>\n",
       "      <td>2</td>\n",
       "      <td>50</td>\n",
       "      <td>1056</td>\n",
       "      <td>1.0</td>\n",
       "      <td>8.0</td>\n",
       "      <td>0</td>\n",
       "      <td>1</td>\n",
       "    </tr>\n",
       "    <tr>\n",
       "      <th>2</th>\n",
       "      <td>2</td>\n",
       "      <td>3</td>\n",
       "      <td>66</td>\n",
       "      <td>331</td>\n",
       "      <td>36172</td>\n",
       "      <td>69.9082</td>\n",
       "      <td>96493</td>\n",
       "      <td>0</td>\n",
       "      <td>0</td>\n",
       "      <td>1</td>\n",
       "      <td>...</td>\n",
       "      <td>2</td>\n",
       "      <td>11319</td>\n",
       "      <td>1</td>\n",
       "      <td>2</td>\n",
       "      <td>50</td>\n",
       "      <td>681</td>\n",
       "      <td>2.0</td>\n",
       "      <td>8.0</td>\n",
       "      <td>0</td>\n",
       "      <td>1</td>\n",
       "    </tr>\n",
       "    <tr>\n",
       "      <th>3</th>\n",
       "      <td>2</td>\n",
       "      <td>3</td>\n",
       "      <td>66</td>\n",
       "      <td>226</td>\n",
       "      <td>51467</td>\n",
       "      <td>136.4249</td>\n",
       "      <td>958118</td>\n",
       "      <td>0</td>\n",
       "      <td>0</td>\n",
       "      <td>9</td>\n",
       "      <td>...</td>\n",
       "      <td>1</td>\n",
       "      <td>30872</td>\n",
       "      <td>4</td>\n",
       "      <td>2</td>\n",
       "      <td>50</td>\n",
       "      <td>350</td>\n",
       "      <td>1.0</td>\n",
       "      <td>4.0</td>\n",
       "      <td>0</td>\n",
       "      <td>1</td>\n",
       "    </tr>\n",
       "    <tr>\n",
       "      <th>4</th>\n",
       "      <td>2</td>\n",
       "      <td>3</td>\n",
       "      <td>66</td>\n",
       "      <td>254</td>\n",
       "      <td>23820</td>\n",
       "      <td>1459.1560</td>\n",
       "      <td>318859</td>\n",
       "      <td>0</td>\n",
       "      <td>0</td>\n",
       "      <td>0</td>\n",
       "      <td>...</td>\n",
       "      <td>1</td>\n",
       "      <td>60915</td>\n",
       "      <td>4</td>\n",
       "      <td>4</td>\n",
       "      <td>8</td>\n",
       "      <td>110</td>\n",
       "      <td>18.0</td>\n",
       "      <td>141.0</td>\n",
       "      <td>0</td>\n",
       "      <td>1</td>\n",
       "    </tr>\n",
       "  </tbody>\n",
       "</table>\n",
       "<p>5 rows × 22 columns</p>\n",
       "</div>"
      ],
      "text/plain": [
       "   site_name  posa_continent  user_location_country  user_location_region  \\\n",
       "0          2               3                     66                   318   \n",
       "1          2               3                     66                   351   \n",
       "2          2               3                     66                   331   \n",
       "3          2               3                     66                   226   \n",
       "4          2               3                     66                   254   \n",
       "\n",
       "   user_location_city  orig_destination_distance  user_id  is_mobile  \\\n",
       "0                8031                  1850.5388   838999          0   \n",
       "1                8978                   122.1979   480943          0   \n",
       "2               36172                    69.9082    96493          0   \n",
       "3               51467                   136.4249   958118          0   \n",
       "4               23820                  1459.1560   318859          0   \n",
       "\n",
       "   is_package  channel  ...  srch_rm_cnt  srch_destination_id  \\\n",
       "0           0        0  ...            1                 8278   \n",
       "1           0        9  ...            1                35125   \n",
       "2           0        1  ...            2                11319   \n",
       "3           0        9  ...            1                30872   \n",
       "4           0        0  ...            1                60915   \n",
       "\n",
       "   srch_destination_type_id  hotel_continent  hotel_country  hotel_market  \\\n",
       "0                         1                2             50           368   \n",
       "1                         4                2             50          1056   \n",
       "2                         1                2             50           681   \n",
       "3                         4                2             50           350   \n",
       "4                         4                4              8           110   \n",
       "\n",
       "   duration  days_to_trip  start_of_trip_weekend  end_of_trip_weekend  \n",
       "0       2.0         225.0                      0                    1  \n",
       "1       1.0           8.0                      0                    1  \n",
       "2       2.0           8.0                      0                    1  \n",
       "3       1.0           4.0                      0                    1  \n",
       "4      18.0         141.0                      0                    1  \n",
       "\n",
       "[5 rows x 22 columns]"
      ]
     },
     "execution_count": 182,
     "metadata": {},
     "output_type": "execute_result"
    }
   ],
   "source": [
    "# read test data from local file\n",
    "fpath = os.path.join(LOCAL_DATA_DIR, test_dataset_fname)\n",
    "df = pd.read_csv(fpath)\n",
    "logger.info(f\"read test data from {fpath}, dataframe shape is {df.shape}\")\n",
    "df.head()"
   ]
  },
  {
   "cell_type": "code",
   "execution_count": 183,
   "id": "b2b932dd",
   "metadata": {},
   "outputs": [
    {
     "data": {
      "text/plain": [
       "{'site_name': 2,\n",
       " 'posa_continent': 3,\n",
       " 'user_location_country': 66,\n",
       " 'user_location_region': 318,\n",
       " 'user_location_city': 8031,\n",
       " 'orig_destination_distance': 1850.5388,\n",
       " 'user_id': 838999,\n",
       " 'is_mobile': 0,\n",
       " 'is_package': 0,\n",
       " 'channel': 0,\n",
       " 'srch_adults_cnt': 2,\n",
       " 'srch_children_cnt': 4,\n",
       " 'srch_rm_cnt': 1,\n",
       " 'srch_destination_id': 8278,\n",
       " 'srch_destination_type_id': 1,\n",
       " 'hotel_continent': 2,\n",
       " 'hotel_country': 50,\n",
       " 'hotel_market': 368,\n",
       " 'duration': 2.0,\n",
       " 'days_to_trip': 225.0,\n",
       " 'start_of_trip_weekend': 0,\n",
       " 'end_of_trip_weekend': 1}"
      ]
     },
     "execution_count": 183,
     "metadata": {},
     "output_type": "execute_result"
    }
   ],
   "source": [
    "# print out the first record just for debug purposes\n",
    "record = json.loads(df.to_json(orient='records'))[0]\n",
    "record"
   ]
  },
  {
   "cell_type": "code",
   "execution_count": 184,
   "id": "a965eee6",
   "metadata": {},
   "outputs": [
    {
     "name": "stdout",
     "output_type": "stream",
     "text": [
      "Sending data, record.user_id=838999...\n",
      "data sent successfully...\n",
      "Sending data, record.user_id=480943...\n",
      "data sent successfully...\n",
      "Sending data, record.user_id=96493...\n",
      "data sent successfully...\n",
      "Sending data, record.user_id=958118...\n",
      "data sent successfully...\n",
      "Sending data, record.user_id=318859...\n",
      "data sent successfully...\n"
     ]
    }
   ],
   "source": [
    "# stream each row of the dataframe as a json to the Kinesis data stream\n",
    "kinesis_client = boto3.client('kinesis')\n",
    "\n",
    "for record in json.loads(df.to_json(orient='records'))[:RECORDS_TO_STREAM]:\n",
    "    data = json.dumps(record)\n",
    "    logger.info(f\"Sending data, record.{PK}={record[PK]}...\")\n",
    "    response = kinesis_client.put_record(StreamName = customer_input_stream_name,\n",
    "                                         Data = data,\n",
    "                                         PartitionKey = PK)\n",
    "\n",
    "    if (response['ResponseMetadata']['HTTPStatusCode'] != 200):\n",
    "        logger.error(\"ERROR: Kinesis put_record failed: \\n{}\".format(json.dumps(response)))\n",
    "    else:\n",
    "        logger.info(\"data sent successfully...\")"
   ]
  },
  {
   "cell_type": "markdown",
   "id": "ce880369",
   "metadata": {},
   "source": [
    "## Check the DynamoDB table\n",
    "\n",
    "Now check the DynamoDB table (ExpediaPerCustomerHotelClusterPredictionsunless changed when deploying the Cloud Formation template) for new data inserted corresponding to the records streamed in the previous step. Look for the hotel_cluster_predicted field, this field contains the prediction from the SageMaker model endpoint.\n",
    "\n",
    "Also check the logs of the Lambda function to see that it got invokes for every record put on the Kinesis stream."
   ]
  },
  {
   "cell_type": "markdown",
   "id": "b4b46b65",
   "metadata": {},
   "source": [
    "<img src=\"../images/ddb_table.png\">Data Profile</img>"
   ]
  }
 ],
 "metadata": {
  "kernelspec": {
   "display_name": "conda_python3",
   "language": "python",
   "name": "conda_python3"
  },
  "language_info": {
   "codemirror_mode": {
    "name": "ipython",
    "version": 3
   },
   "file_extension": ".py",
   "mimetype": "text/x-python",
   "name": "python",
   "nbconvert_exporter": "python",
   "pygments_lexer": "ipython3",
   "version": "3.6.13"
  }
 },
 "nbformat": 4,
 "nbformat_minor": 5
}
