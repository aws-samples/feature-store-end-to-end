{
 "cells": [
  {
   "cell_type": "markdown",
   "id": "7cec74ef",
   "metadata": {},
   "source": [
    "# Cleanup\n",
    "This notebook cleansup (deletes) resources created by previous notebooks so that the Cloud Formation stack can be safely deleted. For example, objects in S3 buckets,  SageMaker model endpoint etc. "
   ]
  },
  {
   "cell_type": "markdown",
   "id": "662d7fef",
   "metadata": {},
   "source": [
    "## Imports"
   ]
  },
  {
   "cell_type": "code",
   "execution_count": 1,
   "id": "45872b79",
   "metadata": {},
   "outputs": [],
   "source": [
    "from pathlib import Path\n",
    "import pandas as pd\n",
    "import numpy as np\n",
    "import sagemaker\n",
    "import logging\n",
    "import psutil\n",
    "import boto3\n",
    "import json\n",
    "import time\n",
    "import sys\n",
    "import os"
   ]
  },
  {
   "cell_type": "code",
   "execution_count": 2,
   "id": "f2c544d5",
   "metadata": {},
   "outputs": [
    {
     "name": "stdout",
     "output_type": "stream",
     "text": [
      "/home/ec2-user/SageMaker/feature-store-expedia/utils\n"
     ]
    }
   ],
   "source": [
    "# import from a different path\n",
    "path = Path(os.path.abspath(os.getcwd()))\n",
    "package_dir = f'{str(path.parent)}/utils'\n",
    "print(package_dir)\n",
    "sys.path.insert(0, package_dir)\n",
    "import utils"
   ]
  },
  {
   "cell_type": "markdown",
   "id": "303c59ba",
   "metadata": {},
   "source": [
    "## Setup Logging"
   ]
  },
  {
   "cell_type": "code",
   "execution_count": 3,
   "id": "7257072a",
   "metadata": {},
   "outputs": [],
   "source": [
    "logger = logging.getLogger('__name__')\n",
    "logging.basicConfig(format=\"%(asctime)s,%(filename)s,%(funcName)s,%(lineno)s,%(levelname)s,p%(process)s,%(message)s\", level=logging.INFO)       "
   ]
  },
  {
   "cell_type": "markdown",
   "id": "444dc6b7",
   "metadata": {},
   "source": [
    "## Global Constants"
   ]
  },
  {
   "cell_type": "code",
   "execution_count": 4,
   "id": "de099ae4",
   "metadata": {},
   "outputs": [],
   "source": [
    "# global constants\n",
    "STACK_NAME = \"expedia-feature-store-demo-v2\"\n",
    "LOCAL_DATA_DIR = \"../data\"\n"
   ]
  },
  {
   "cell_type": "markdown",
   "id": "f62110ab",
   "metadata": {},
   "source": [
    "## Setup Config Variables"
   ]
  },
  {
   "cell_type": "code",
   "execution_count": 5,
   "id": "29fc2660",
   "metadata": {},
   "outputs": [
    {
     "name": "stderr",
     "output_type": "stream",
     "text": [
      "/home/ec2-user/anaconda3/envs/python3/lib/python3.6/site-packages/boto3/compat.py:88: PythonDeprecationWarning: Boto3 will no longer support Python 3.6 starting May 30, 2022. To continue receiving service updates, bug fixes, and security updates please upgrade to Python 3.7 or later. More information can be found here: https://aws.amazon.com/blogs/developer/python-support-policy-updates-for-aws-sdks-and-tools/\n",
      "  warnings.warn(warning, PythonDeprecationWarning)\n",
      "2022-06-27 19:00:50,066,<ipython-input-5-4992a499e393>,<module>,10,INFO,p10102,data_bucket_name=expedia-customer-behavior-data-2345bbc0,\n",
      "athena_query_results_bucket_name=athena-query-results-2345bbc0,\n",
      "model_bucket_name=expedia-ml-models-2345bbc0\n",
      "feature_store_bucket_name=expedia-feature-store-offline-2345bbc0,\n",
      "hotel_cluster_prediction_fn_arn=arn:aws:lambda:us-east-1:924873211303:function:PredictHotelCluster\n",
      "hotel_cluster_prediction_ddb_table_name=ExpediaPerCustomerHotelClusterPredictions\n"
     ]
    }
   ],
   "source": [
    "# read output variables from cloud formation stack, these will be used as parameters throughout\n",
    "# the code\n",
    "data_bucket_name = utils.get_cfn_stack_outputs(STACK_NAME, 'DataBucketName')\n",
    "model_bucket_name = utils.get_cfn_stack_outputs(STACK_NAME, 'MLModelBucketName')\n",
    "athena_query_results_bucket_name = utils.get_cfn_stack_outputs(STACK_NAME, 'AthenaQueryResultsBucketName')\n",
    "feature_store_bucket_name = utils.get_cfn_stack_outputs(STACK_NAME, 'FeatureStoreBucketName')\n",
    "hotel_cluster_prediction_fn_arn = utils.get_cfn_stack_outputs(STACK_NAME, 'HotelClusterPredictionFunction')\n",
    "hotel_cluster_prediction_ddb_table_name = utils.get_cfn_stack_outputs(STACK_NAME, 'HotelClusterPredictionsTableName')\n",
    "\n",
    "logger.info(f\"data_bucket_name={data_bucket_name},\\nathena_query_results_bucket_name={athena_query_results_bucket_name},\\n\"\n",
    "            f\"model_bucket_name={model_bucket_name}\\nfeature_store_bucket_name={feature_store_bucket_name},\\n\"\n",
    "            f\"hotel_cluster_prediction_fn_arn={hotel_cluster_prediction_fn_arn}\\nhotel_cluster_prediction_ddb_table_name={hotel_cluster_prediction_ddb_table_name}\")"
   ]
  },
  {
   "cell_type": "code",
   "execution_count": 6,
   "id": "4ba8cd1b",
   "metadata": {},
   "outputs": [
    {
     "name": "stderr",
     "output_type": "stream",
     "text": [
      "2022-06-27 19:00:50,074,utils.py,read_param,131,INFO,p10102,read_param, fpath=../config/customer_inputs_fg_name, read customer_inputs_fg_name=expedia-customer-inputs-2022-6-24-21-43\n",
      "2022-06-27 19:00:50,075,utils.py,read_param,131,INFO,p10102,read_param, fpath=../config/destinations_fg_name, read destinations_fg_name=expedia-destinations-2022-6-24-21-43\n",
      "2022-06-27 19:00:50,076,utils.py,read_param,131,INFO,p10102,read_param, fpath=../config/customer_inputs_fg_table, read customer_inputs_fg_table=expedia-customer-inputs-2022-6-24-21-43-1656107063\n",
      "2022-06-27 19:00:50,077,utils.py,read_param,131,INFO,p10102,read_param, fpath=../config/destinations_fg_table, read destinations_fg_table=expedia-destinations-2022-6-24-21-43-1656107143\n",
      "2022-06-27 19:00:50,078,utils.py,read_param,131,INFO,p10102,read_param, fpath=../config/customer_inputs_fg_name, read customer_inputs_fg_name=expedia-customer-inputs-2022-6-24-21-43\n",
      "2022-06-27 19:00:50,078,utils.py,read_param,131,INFO,p10102,read_param, fpath=../config/endpoint_name, read endpoint_name=hotel-cluster-prediction-ml-model-2022-06-26-15-50-01-705\n",
      "2022-06-27 19:00:51,161,<ipython-input-6-7c68eaa52b56>,<module>,28,INFO,p10102,customer_inputs_fg_table=expedia-customer-inputs-2022-6-24-21-43-1656107063,\n",
      "destinations_fg_table=expedia-destinations-2022-6-24-21-43-1656107143,\n",
      "customer_inputs_fg_name=expedia-customer-inputs-2022-6-24-21-43,\n",
      "destinations_fg_name=expedia-destinations-2022-6-24-21-43\n",
      "raw_data_dir=raw_data,\n",
      "training_dataset_fname=train.csv,\n",
      "test_dataset_fname=test.csv,\n",
      "validation_dataset_fname=-validation.csv\n",
      "training_job_instance_type=ml.m5.xlarge,\n",
      "training_job_instance_count=2,\n",
      "model_ep_instance_type=ml.m5.xlarge,\n",
      "model_ep_instance_count=2,\n",
      "customer_input_stream_name=expedia-customer-input-realtime\n"
     ]
    }
   ],
   "source": [
    "# read outputs from previous notebooks that are needed by this notebook.\n",
    "# these are available as local files.\n",
    "customer_inputs_fg_name = utils.read_param(\"customer_inputs_fg_name\")\n",
    "destinations_fg_name = utils.read_param(\"destinations_fg_name\")\n",
    "customer_inputs_fg_table = utils.read_param(\"customer_inputs_fg_table\")\n",
    "destinations_fg_table = utils.read_param(\"destinations_fg_table\")\n",
    "customer_inputs_fg_name = utils.read_param(\"customer_inputs_fg_name\")\n",
    "ml_model_endpoint_name = utils.read_param(\"endpoint_name\")\n",
    "\n",
    "# read params from the cloud formation stack\n",
    "raw_data_dir = utils.get_cfn_stack_parameters(STACK_NAME, 'RawDataDir')\n",
    "app_name = utils.get_cfn_stack_parameters(STACK_NAME, 'AppName')\n",
    "\n",
    "training_dataset_fname = utils.get_cfn_stack_parameters(STACK_NAME, 'TrainingDatasetFileName')\n",
    "test_dataset_fname = utils.get_cfn_stack_parameters(STACK_NAME, 'TestDatasetFileName')\n",
    "validation_dataset_fname = utils.get_cfn_stack_parameters(STACK_NAME, 'ValidationDatasetFileName')\n",
    "\n",
    "training_job_instance_type = utils.get_cfn_stack_parameters(STACK_NAME, 'TrainingJobInstanceType')\n",
    "if training_job_instance_type is None:\n",
    "    training_job_instance_type = \"ml.m5.xlarge\"\n",
    "training_job_instance_count = int(utils.get_cfn_stack_parameters(STACK_NAME, 'TrainingJobNodeInstanceCount'))\n",
    "\n",
    "model_ep_instance_type = utils.get_cfn_stack_parameters(STACK_NAME, 'ModelEndpointInstanceType')\n",
    "model_ep_instance_count = int(utils.get_cfn_stack_parameters(STACK_NAME, 'ModelEndpointInstanceCount'))\n",
    "\n",
    "customer_input_stream_name = utils.get_cfn_stack_parameters(STACK_NAME, 'CustomerInputStreamName')\n",
    "            \n",
    "logger.info(f\"customer_inputs_fg_table={customer_inputs_fg_table},\\ndestinations_fg_table={destinations_fg_table},\\n\"\n",
    "            f\"customer_inputs_fg_name={customer_inputs_fg_name},\\ndestinations_fg_name={destinations_fg_name}\\n\"\n",
    "            f\"raw_data_dir={raw_data_dir},\\ntraining_dataset_fname={training_dataset_fname},\\n\"\n",
    "            f\"test_dataset_fname={test_dataset_fname},\\nvalidation_dataset_fname=-{validation_dataset_fname}\\n\"\n",
    "            f\"training_job_instance_type={training_job_instance_type},\\ntraining_job_instance_count={training_job_instance_count},\\n\"\n",
    "            f\"model_ep_instance_type={model_ep_instance_type},\\nmodel_ep_instance_count={model_ep_instance_count},\\ncustomer_input_stream_name={customer_input_stream_name}\")"
   ]
  },
  {
   "cell_type": "markdown",
   "id": "2fb1e1cb",
   "metadata": {},
   "source": [
    "## Cleanup s3 buckets"
   ]
  },
  {
   "cell_type": "code",
   "execution_count": 7,
   "id": "2771d32f",
   "metadata": {},
   "outputs": [
    {
     "name": "stderr",
     "output_type": "stream",
     "text": [
      "2022-06-27 19:00:51,192,utils.py,delete_all_objs_from_s3_bucket,188,INFO,p10102,delete_all_objs_from_s3_bucket, going to delete objects from bucket=expedia-customer-behavior-data-2345bbc0\n",
      "2022-06-27 19:00:51,269,utils.py,delete_all_objs_from_s3_bucket,191,INFO,p10102,delete_all_objs_from_s3_bucket, after deleting objects from bucket=expedia-customer-behavior-data-2345bbc0\n",
      "2022-06-27 19:00:51,277,utils.py,delete_all_objs_from_s3_bucket,188,INFO,p10102,delete_all_objs_from_s3_bucket, going to delete objects from bucket=expedia-ml-models-2345bbc0\n",
      "2022-06-27 19:00:51,351,utils.py,delete_all_objs_from_s3_bucket,191,INFO,p10102,delete_all_objs_from_s3_bucket, after deleting objects from bucket=expedia-ml-models-2345bbc0\n",
      "2022-06-27 19:00:51,358,utils.py,delete_all_objs_from_s3_bucket,188,INFO,p10102,delete_all_objs_from_s3_bucket, going to delete objects from bucket=athena-query-results-2345bbc0\n",
      "2022-06-27 19:00:51,431,utils.py,delete_all_objs_from_s3_bucket,191,INFO,p10102,delete_all_objs_from_s3_bucket, after deleting objects from bucket=athena-query-results-2345bbc0\n",
      "2022-06-27 19:00:51,440,utils.py,delete_all_objs_from_s3_bucket,188,INFO,p10102,delete_all_objs_from_s3_bucket, going to delete objects from bucket=expedia-feature-store-offline-2345bbc0\n",
      "2022-06-27 19:00:51,517,utils.py,delete_all_objs_from_s3_bucket,191,INFO,p10102,delete_all_objs_from_s3_bucket, after deleting objects from bucket=expedia-feature-store-offline-2345bbc0\n"
     ]
    }
   ],
   "source": [
    "bucket_list = [data_bucket_name, model_bucket_name, athena_query_results_bucket_name, feature_store_bucket_name]\n",
    "_ = list(map(utils.delete_all_objs_from_s3_bucket, bucket_list))"
   ]
  },
  {
   "cell_type": "markdown",
   "id": "c9674752",
   "metadata": {},
   "source": [
    "# Cleanup SageMaker resources"
   ]
  },
  {
   "cell_type": "code",
   "execution_count": 8,
   "id": "659714fd",
   "metadata": {},
   "outputs": [
    {
     "name": "stderr",
     "output_type": "stream",
     "text": [
      "2022-06-27 19:00:51,559,utils.py,delete_sagemaker_model_resources,207,INFO,p10102,delete_sagemaker_model_resources, ep_name=hotel-cluster-prediction-ml-model-2022-06-26-15-50-01-705\n",
      "2022-06-27 19:00:51,669,utils.py,delete_sagemaker_model_resources,229,ERROR,p10102,delete_sagemaker_model_resources, exception=An error occurred (ValidationException) when calling the DescribeEndpointConfig operation: Could not find endpoint configuration \"arn:aws:sagemaker:us-east-1:924873211303:endpoint-config/hotel-cluster-prediction-ml-model-2022-06-26-15-50-01-705\".\n"
     ]
    }
   ],
   "source": [
    "utils.delete_sagemaker_model_resources(ml_model_endpoint_name)"
   ]
  }
 ],
 "metadata": {
  "kernelspec": {
   "display_name": "conda_python3",
   "language": "python",
   "name": "conda_python3"
  },
  "language_info": {
   "codemirror_mode": {
    "name": "ipython",
    "version": 3
   },
   "file_extension": ".py",
   "mimetype": "text/x-python",
   "name": "python",
   "nbconvert_exporter": "python",
   "pygments_lexer": "ipython3",
   "version": "3.6.13"
  }
 },
 "nbformat": 4,
 "nbformat_minor": 5
}
