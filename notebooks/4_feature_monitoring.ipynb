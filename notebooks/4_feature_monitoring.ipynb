{
 "cells": [
  {
   "cell_type": "markdown",
   "id": "0bc5d99f",
   "metadata": {},
   "source": [
    "# Data Quality & Drift\n",
    "This notebook uses AWS Glue and AWS Glue Data Brew to create a data profiling report. This can be used for tracking data drift overtime by adding data wrangling code to compare statistical summaries (standard de3viation for example) for data quality metrics for features of interest."
   ]
  },
  {
   "cell_type": "markdown",
   "id": "780ccad7",
   "metadata": {},
   "source": [
    "**Note:** This code requires the `pyathena` package to be installed, the following cell install `pyathena` if not already installed."
   ]
  },
  {
   "cell_type": "code",
   "execution_count": 1,
   "id": "4415a84a",
   "metadata": {},
   "outputs": [
    {
     "name": "stdout",
     "output_type": "stream",
     "text": [
      "Collecting pyathena==2.3.2\n",
      "  Downloading PyAthena-2.3.2-py3-none-any.whl (37 kB)\n",
      "Requirement already satisfied: botocore>=1.5.52 in /home/ec2-user/anaconda3/envs/python3/lib/python3.6/site-packages (from pyathena==2.3.2) (1.24.42)\n",
      "Requirement already satisfied: tenacity>=4.1.0 in /home/ec2-user/anaconda3/envs/python3/lib/python3.6/site-packages (from pyathena==2.3.2) (8.0.1)\n",
      "Requirement already satisfied: boto3>=1.4.4 in /home/ec2-user/anaconda3/envs/python3/lib/python3.6/site-packages (from pyathena==2.3.2) (1.21.42)\n",
      "Requirement already satisfied: jmespath<2.0.0,>=0.7.1 in /home/ec2-user/anaconda3/envs/python3/lib/python3.6/site-packages (from boto3>=1.4.4->pyathena==2.3.2) (0.10.0)\n",
      "Requirement already satisfied: s3transfer<0.6.0,>=0.5.0 in /home/ec2-user/anaconda3/envs/python3/lib/python3.6/site-packages (from boto3>=1.4.4->pyathena==2.3.2) (0.5.0)\n",
      "Requirement already satisfied: python-dateutil<3.0.0,>=2.1 in /home/ec2-user/anaconda3/envs/python3/lib/python3.6/site-packages (from botocore>=1.5.52->pyathena==2.3.2) (2.8.1)\n",
      "Requirement already satisfied: urllib3<1.27,>=1.25.4 in /home/ec2-user/anaconda3/envs/python3/lib/python3.6/site-packages (from botocore>=1.5.52->pyathena==2.3.2) (1.26.8)\n",
      "Requirement already satisfied: six>=1.5 in /home/ec2-user/anaconda3/envs/python3/lib/python3.6/site-packages (from python-dateutil<3.0.0,>=2.1->botocore>=1.5.52->pyathena==2.3.2) (1.15.0)\n",
      "Installing collected packages: pyathena\n",
      "Successfully installed pyathena-2.3.2\n"
     ]
    }
   ],
   "source": [
    "try:\n",
    "    import pyathena\n",
    "except ImportError as e:\n",
    "    !pip3 install pyathena==2.3.2"
   ]
  },
  {
   "cell_type": "markdown",
   "id": "0af923e0",
   "metadata": {},
   "source": [
    "## Imports"
   ]
  },
  {
   "cell_type": "code",
   "execution_count": 2,
   "id": "9ae2026e",
   "metadata": {},
   "outputs": [],
   "source": [
    "from IPython.display import display, Markdown\n",
    "from datetime import datetime\n",
    "from pathlib import Path\n",
    "import sagemaker\n",
    "import logging\n",
    "import boto3\n",
    "import sys\n",
    "import os"
   ]
  },
  {
   "cell_type": "code",
   "execution_count": 3,
   "id": "d40f813b",
   "metadata": {},
   "outputs": [
    {
     "name": "stdout",
     "output_type": "stream",
     "text": [
      "/home/ec2-user/SageMaker/feature-store-expedia/utils\n"
     ]
    },
    {
     "name": "stderr",
     "output_type": "stream",
     "text": [
      "/home/ec2-user/anaconda3/envs/python3/lib/python3.6/site-packages/boto3/compat.py:88: PythonDeprecationWarning: Boto3 will no longer support Python 3.6 starting May 30, 2022. To continue receiving service updates, bug fixes, and security updates please upgrade to Python 3.7 or later. More information can be found here: https://aws.amazon.com/blogs/developer/python-support-policy-updates-for-aws-sdks-and-tools/\n",
      "  warnings.warn(warning, PythonDeprecationWarning)\n"
     ]
    }
   ],
   "source": [
    "# import from a different path\n",
    "path = Path(os.path.abspath(os.getcwd()))\n",
    "package_dir = f'{str(path.parent)}/utils'\n",
    "print(package_dir)\n",
    "sys.path.insert(0, package_dir)\n",
    "import utils\n",
    "import feature_monitoring_utils"
   ]
  },
  {
   "cell_type": "markdown",
   "id": "04186a16",
   "metadata": {},
   "source": [
    "## Setup Logging"
   ]
  },
  {
   "cell_type": "code",
   "execution_count": 4,
   "id": "9859f350",
   "metadata": {},
   "outputs": [],
   "source": [
    "logger = logging.getLogger('__name__')\n",
    "logging.basicConfig(format=\"%(asctime)s,%(filename)s,%(funcName)s,%(lineno)s,%(levelname)s,p%(process)s,%(message)s\", level=logging.INFO)       \n"
   ]
  },
  {
   "cell_type": "markdown",
   "id": "5c27cfe3",
   "metadata": {},
   "source": [
    "## Setup Config Variables\n",
    "Read the metadata (feature group name, model endpoint name etc.) produced by the previous notebooks so that they can be provided as inputs to the lineage tracking module."
   ]
  },
  {
   "cell_type": "code",
   "execution_count": 5,
   "id": "a0a98fc7",
   "metadata": {},
   "outputs": [
    {
     "name": "stderr",
     "output_type": "stream",
     "text": [
      "2022-06-10 15:18:21,460,utils.py,read_param,130,INFO,p24251,read_param, fpath=../config/endpoint_name, read endpoint_name=hotel-cluster-prediction-ml-model-2022-06-08-19-12-46-266\n",
      "2022-06-10 15:18:21,461,utils.py,read_param,130,INFO,p24251,read_param, fpath=../config/customer_inputs_fg_name, read customer_inputs_fg_name=expedia-customer-inputs-2022-6-8-15-0\n",
      "2022-06-10 15:18:21,462,utils.py,read_param,130,INFO,p24251,read_param, fpath=../config/destinations_fg_name, read destinations_fg_name=expedia-destinations-2022-6-8-15-0\n",
      "2022-06-10 15:18:21,463,utils.py,read_param,130,INFO,p24251,read_param, fpath=../config/customer_inputs_fg_query_string, read customer_inputs_fg_query_string=SELECT * FROM \"expedia-customer-inputs-2022-6-8-15-0-1654700956\" limit 10\n",
      "\n",
      "2022-06-10 15:18:21,464,utils.py,read_param,130,INFO,p24251,read_param, fpath=../config/training_job_name, read training_job_name=hotel-cluster-prediction-ml-model-2022-06-08-19-02-56-809\n",
      "2022-06-10 15:18:21,465,<ipython-input-5-5b8611698109>,<module>,7,INFO,p24251,endpoint_name=hotel-cluster-prediction-ml-model-2022-06-08-19-12-46-266, customer_inputs_fg_name=expedia-customer-inputs-2022-6-8-15-0,\n",
      "customer_inputs_fg_query_string=SELECT * FROM \"expedia-customer-inputs-2022-6-8-15-0-1654700956\" limit 10\n",
      ", training_job_name=hotel-cluster-prediction-ml-model-2022-06-08-19-02-56-809\n"
     ]
    }
   ],
   "source": [
    "endpoint_name = utils.read_param(\"endpoint_name\")\n",
    "customer_inputs_fg_name = utils.read_param(\"customer_inputs_fg_name\")\n",
    "destinations_fg_name = utils.read_param(\"destinations_fg_name\")\n",
    "customer_inputs_fg_query_string = utils.read_param(\"customer_inputs_fg_query_string\")\n",
    "query_string = utils.read_param(\"query_string\")\n",
    "training_job_name = utils.read_param(\"training_job_name\")\n",
    "logger.info(f\"endpoint_name={endpoint_name}, customer_inputs_fg_name={customer_inputs_fg_name},\\n\"\n",
    "            f\"customer_inputs_fg_query_string={customer_inputs_fg_query_string}, training_job_name={training_job_name}\")"
   ]
  },
  {
   "cell_type": "code",
   "execution_count": 6,
   "id": "5ecedb83",
   "metadata": {},
   "outputs": [],
   "source": [
    "# Set up the results bucket location\n",
    "results_bucket=sagemaker.Session().default_bucket() # You might change this for a different s3 bucket\n",
    "results_key='aws-databrew-results/Offline-FS'"
   ]
  },
  {
   "cell_type": "markdown",
   "id": "3663ac79",
   "metadata": {},
   "source": [
    "## Run data profiling jobs\n",
    "We use the feature_monitoring_prep module as a wrapper to initiate Glue data brew jobs for profiling the data."
   ]
  },
  {
   "cell_type": "code",
   "execution_count": 8,
   "id": "55c270e6",
   "metadata": {},
   "outputs": [
    {
     "name": "stdout",
     "output_type": "stream",
     "text": [
      "Feature Group S3 URL: s3://expedia-feature-store-offline-195cbf60/expedia-customer-inputs-2022-6-8-15-0/015469603702/sagemaker/us-east-1/offline-store/expedia-customer-inputs-2022-6-8-15-0-1654700956\n",
      "Feature Group Table Name: expedia-customer-inputs-2022-6-8-15-0-1654700956\n",
      "CTAS table created successfully: expedia-customer-inputs-2022-6-8-15-0-1654700956-ctas-temp\n",
      "Start crawling expedia-customer-inputs-2022-6-8-15-0-1654700956-ctas-temp-crawler.\n"
     ]
    },
    {
     "name": "stderr",
     "output_type": "stream",
     "text": [
      "2022-06-10 15:18:55,743,feature_monitoring_utils.py,wait_until_ready,214,INFO,p24251,Crawler expedia-customer-inputs-2022-6-8-15-0-1654700956-ctas-temp-crawler is running.\n"
     ]
    },
    {
     "name": "stdout",
     "output_type": "stream",
     "text": [
      ".........."
     ]
    },
    {
     "name": "stderr",
     "output_type": "stream",
     "text": [
      "2022-06-10 15:19:46,567,feature_monitoring_utils.py,wait_until_ready,214,INFO,p24251,Crawler expedia-customer-inputs-2022-6-8-15-0-1654700956-ctas-temp-crawler is stopping.\n"
     ]
    },
    {
     "name": "stdout",
     "output_type": "stream",
     "text": [
      "............."
     ]
    },
    {
     "name": "stderr",
     "output_type": "stream",
     "text": [
      "2022-06-10 15:20:52,674,feature_monitoring_utils.py,wait_until_ready,214,INFO,p24251,Crawler expedia-customer-inputs-2022-6-8-15-0-1654700956-ctas-temp-crawler is ready.\n"
     ]
    },
    {
     "name": "stdout",
     "output_type": "stream",
     "text": [
      ".!\n",
      "\n",
      "DataBrew Dataset Created:  expedia-customer-inputs-2022-6-8-15-0-dataset\n",
      "AWS Glue DataBrew Profile Job Created: expedia-customer-inputs-2022-6-8-15-0-profile-job\n"
     ]
    }
   ],
   "source": [
    "response_brew_prep = feature_monitoring_utils.feature_monitoring_prep(\n",
    "    customer_inputs_fg_name, \n",
    "    results_bucket, \n",
    "    results_key,\n",
    "    verbose = False\n",
    ")"
   ]
  },
  {
   "cell_type": "code",
   "execution_count": 9,
   "id": "e747333a",
   "metadata": {},
   "outputs": [
    {
     "name": "stdout",
     "output_type": "stream",
     "text": [
      "Feature Group S3 URL: s3://expedia-feature-store-offline-195cbf60/expedia-customer-inputs-2022-6-8-15-0/015469603702/sagemaker/us-east-1/offline-store/expedia-customer-inputs-2022-6-8-15-0-1654700956\n",
      "Feature Group Table Name: expedia-customer-inputs-2022-6-8-15-0-1654700956\n",
      "CTAS table created successfully: expedia-customer-inputs-2022-6-8-15-0-1654700956-ctas-temp\n",
      "Running DataBrew Profiling Job\n",
      "......................................!\n",
      "\n"
     ]
    }
   ],
   "source": [
    "# Call the main profile execution function\n",
    "response_brew_job = feature_monitoring_utils.feature_monitoring_run(\n",
    "    customer_inputs_fg_name,\n",
    "    verbose=False\n",
    ")"
   ]
  },
  {
   "cell_type": "code",
   "execution_count": 10,
   "id": "4b5b36c7",
   "metadata": {},
   "outputs": [
    {
     "name": "stderr",
     "output_type": "stream",
     "text": [
      "2022-06-10 15:24:26,411,<ipython-input-10-e4662f4f4412>,<module>,4,INFO,p24251,Report is available at the following S3 location:\n",
      "s3://sagemaker-us-east-1-015469603702/aws-databrew-results/Offline-FS-reports/expedia-customer-inputs-2022-6-8-15-0-dataset_055636775b80de5f229f2e6e3121542542d93d2dcde421f8cefb8bb8fe805bf2.json\n",
      "\n"
     ]
    },
    {
     "name": "stdout",
     "output_type": "stream",
     "text": [
      "Please click on the link below to access visulizations in Glue DataBrew console:\n"
     ]
    },
    {
     "data": {
      "text/markdown": [
       "[DataBrew Profile Job Visualizations](https://us-east-1.console.aws.amazon.com/databrew/home?region=us-east-1#dataset-details?dataset=expedia-customer-inputs-2022-6-8-15-0-dataset&tab=profile-overview)"
      ],
      "text/plain": [
       "<IPython.core.display.Markdown object>"
      ]
     },
     "metadata": {},
     "output_type": "display_data"
    }
   ],
   "source": [
    "# Display the Report S3 location\n",
    "databrew_profile_console_url = response_brew_job[2]\n",
    "brew_results_s3 = response_brew_job[4]\n",
    "logger.info(f\"Report is available at the following S3 location:\\n{brew_results_s3}\\n\")\n",
    "\n",
    "# Display the DataBrew link\n",
    "print(\"Please click on the link below to access visulizations in Glue DataBrew console:\")\n",
    "databrew_link = f'[DataBrew Profile Job Visualizations]({databrew_profile_console_url})'\n",
    "display(Markdown(databrew_link))"
   ]
  },
  {
   "cell_type": "markdown",
   "id": "60dae039",
   "metadata": {},
   "source": [
    "<img src=\"../images/AWS-Glue-DataBrew.png\">Data Profile</img>"
   ]
  },
  {
   "cell_type": "code",
   "execution_count": null,
   "id": "3054f93e",
   "metadata": {},
   "outputs": [],
   "source": []
  }
 ],
 "metadata": {
  "kernelspec": {
   "display_name": "conda_python3",
   "language": "python",
   "name": "conda_python3"
  },
  "language_info": {
   "codemirror_mode": {
    "name": "ipython",
    "version": 3
   },
   "file_extension": ".py",
   "mimetype": "text/x-python",
   "name": "python",
   "nbconvert_exporter": "python",
   "pygments_lexer": "ipython3",
   "version": "3.6.13"
  }
 },
 "nbformat": 4,
 "nbformat_minor": 5
}
