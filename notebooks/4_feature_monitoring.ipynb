{
 "cells": [
  {
   "cell_type": "markdown",
   "id": "6eb99129",
   "metadata": {},
   "source": [
    "# Data Quality & Drift\n",
    "This notebook uses AWS Glue and AWS Glue Data Brew to create a data profiling report. This can be used for tracking data drift overtime by adding data wrangling code to compare statistical summaries (standard de3viation for example) for data quality metrics for features of interest."
   ]
  },
  {
   "cell_type": "markdown",
   "id": "cdf764c9",
   "metadata": {},
   "source": [
    "**Note:** This code requires the `pyathena` package to be installed, the following cell install `pyathena` if not already installed."
   ]
  },
  {
   "cell_type": "code",
   "execution_count": null,
   "id": "e8388f3e",
   "metadata": {},
   "outputs": [],
   "source": [
    "try:\n",
    "    import pyathena\n",
    "except ImportError as e:\n",
    "    !pip3 install pyathena==2.3.2"
   ]
  },
  {
   "cell_type": "markdown",
   "id": "476202be",
   "metadata": {},
   "source": [
    "## Imports"
   ]
  },
  {
   "cell_type": "code",
   "execution_count": null,
   "id": "cbbc0390",
   "metadata": {},
   "outputs": [],
   "source": [
    "from IPython.display import display, Markdown\n",
    "from datetime import datetime\n",
    "from pathlib import Path\n",
    "import sagemaker\n",
    "import logging\n",
    "import boto3\n",
    "import sys\n",
    "import os"
   ]
  },
  {
   "cell_type": "code",
   "execution_count": null,
   "id": "66fc33d8",
   "metadata": {},
   "outputs": [],
   "source": [
    "# import from a different path\n",
    "path = Path(os.path.abspath(os.getcwd()))\n",
    "package_dir = f'{str(path.parent)}/utils'\n",
    "print(package_dir)\n",
    "sys.path.insert(0, package_dir)\n",
    "import utils\n",
    "import feature_monitoring_utils"
   ]
  },
  {
   "cell_type": "markdown",
   "id": "7469e937",
   "metadata": {},
   "source": [
    "## Setup Logging"
   ]
  },
  {
   "cell_type": "code",
   "execution_count": null,
   "id": "862963dc",
   "metadata": {},
   "outputs": [],
   "source": [
    "logger = logging.getLogger('__name__')\n",
    "logging.basicConfig(format=\"%(asctime)s,%(filename)s,%(funcName)s,%(lineno)s,%(levelname)s,p%(process)s,%(message)s\", level=logging.INFO)       \n"
   ]
  },
  {
   "cell_type": "markdown",
   "id": "baf0429a",
   "metadata": {},
   "source": [
    "## Setup Config Variables\n",
    "Read the metadata (feature group name, model endpoint name etc.) produced by the previous notebooks so that they can be provided as inputs to the lineage tracking module."
   ]
  },
  {
   "cell_type": "code",
   "execution_count": null,
   "id": "e5d11d1e",
   "metadata": {},
   "outputs": [],
   "source": [
    "endpoint_name = utils.read_param(\"endpoint_name\")\n",
    "customer_inputs_fg_name = utils.read_param(\"customer_inputs_fg_name\")\n",
    "destinations_fg_name = utils.read_param(\"destinations_fg_name\")\n",
    "customer_inputs_fg_query_string = utils.read_param(\"customer_inputs_fg_query_string\")\n",
    "query_string = utils.read_param(\"query_string\")\n",
    "training_job_name = utils.read_param(\"training_job_name\")\n",
    "logger.info(f\"endpoint_name={endpoint_name}, customer_inputs_fg_name={customer_inputs_fg_name},\\n\"\n",
    "            f\"customer_inputs_fg_query_string={customer_inputs_fg_query_string}, training_job_name={training_job_name}\")"
   ]
  },
  {
   "cell_type": "code",
   "execution_count": null,
   "id": "90e9c90c",
   "metadata": {},
   "outputs": [],
   "source": [
    "# Set up the results bucket location\n",
    "results_bucket=sagemaker.Session().default_bucket() # You might change this for a different s3 bucket\n",
    "results_key='aws-databrew-results/Offline-FS'"
   ]
  },
  {
   "cell_type": "markdown",
   "id": "84d813ff",
   "metadata": {},
   "source": [
    "## Run data profiling jobs\n",
    "We use the feature_monitoring_prep module as a wrapper to initiate Glue data brew jobs for profiling the data."
   ]
  },
  {
   "cell_type": "code",
   "execution_count": null,
   "id": "d30b9486",
   "metadata": {},
   "outputs": [],
   "source": [
    "response_brew_prep = feature_monitoring_utils.feature_monitoring_prep(\n",
    "    customer_inputs_fg_name, \n",
    "    results_bucket, \n",
    "    results_key,\n",
    "    verbose = False\n",
    ")"
   ]
  },
  {
   "cell_type": "code",
   "execution_count": null,
   "id": "33709ba5",
   "metadata": {},
   "outputs": [],
   "source": [
    "# Call the main profile execution function\n",
    "response_brew_job = feature_monitoring_utils.feature_monitoring_run(\n",
    "    customer_inputs_fg_name,\n",
    "    verbose=False\n",
    ")"
   ]
  },
  {
   "cell_type": "code",
   "execution_count": null,
   "id": "bcd7b8a3",
   "metadata": {},
   "outputs": [],
   "source": [
    "# Display the Report S3 location\n",
    "databrew_profile_console_url = response_brew_job[2]\n",
    "brew_results_s3 = response_brew_job[4]\n",
    "logger.info(f\"Report is available at the following S3 location:\\n{brew_results_s3}\\n\")\n",
    "\n",
    "# Display the DataBrew link\n",
    "print(\"Please click on the link below to access visulizations in Glue DataBrew console:\")\n",
    "databrew_link = f'[DataBrew Profile Job Visualizations]({databrew_profile_console_url})'\n",
    "display(Markdown(databrew_link))"
   ]
  },
  {
   "cell_type": "markdown",
   "id": "b20edb00",
   "metadata": {},
   "source": [
    "<img src=\"../images/AWS-Glue-DataBrew.png\">Data Profile</img>"
   ]
  },
  {
   "cell_type": "code",
   "execution_count": null,
   "id": "5d5803e0",
   "metadata": {},
   "outputs": [],
   "source": []
  }
 ],
 "metadata": {
  "kernelspec": {
   "display_name": "conda_python3",
   "language": "python",
   "name": "conda_python3"
  },
  "language_info": {
   "codemirror_mode": {
    "name": "ipython",
    "version": 3
   },
   "file_extension": ".py",
   "mimetype": "text/x-python",
   "name": "python",
   "nbconvert_exporter": "python",
   "pygments_lexer": "ipython3",
   "version": "3.6.13"
  }
 },
 "nbformat": 4,
 "nbformat_minor": 5
}
