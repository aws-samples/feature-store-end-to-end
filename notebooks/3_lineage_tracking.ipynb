{
 "cells": [
  {
   "cell_type": "markdown",
   "id": "bd7fda42",
   "metadata": {},
   "source": [
    "# Lineage Tracking\n",
    "This notebook uses the ml-lineage-helper repo to track the lineage of data, code and ML models."
   ]
  },
  {
   "cell_type": "markdown",
   "id": "37fa5644",
   "metadata": {},
   "source": [
    "**Note:** The lineage tracking functionality requires the use of [https://github.com/aws-samples/ml-lineage-helper](https://github.com/aws-samples/ml-lineage-helper) repo. This is done by pip installing it directly from it's github repo."
   ]
  },
  {
   "cell_type": "markdown",
   "id": "93a517ca",
   "metadata": {},
   "source": [
    "## Imports"
   ]
  },
  {
   "cell_type": "code",
   "execution_count": 1,
   "id": "01858d50",
   "metadata": {},
   "outputs": [],
   "source": [
    "from datetime import datetime\n",
    "from pathlib import Path\n",
    "import logging\n",
    "import boto3\n",
    "import sys\n",
    "import os"
   ]
  },
  {
   "cell_type": "code",
   "execution_count": 2,
   "id": "79fe02f1",
   "metadata": {},
   "outputs": [
    {
     "name": "stdout",
     "output_type": "stream",
     "text": [
      "/home/ec2-user/SageMaker/feature-store-expedia/utils\n"
     ]
    }
   ],
   "source": [
    "# import from a different path\n",
    "path = Path(os.path.abspath(os.getcwd()))\n",
    "package_dir = f'{str(path.parent)}/utils'\n",
    "print(package_dir)\n",
    "sys.path.insert(0, package_dir)\n",
    "import utils"
   ]
  },
  {
   "cell_type": "code",
   "execution_count": 3,
   "id": "be1b9d3e",
   "metadata": {},
   "outputs": [
    {
     "name": "stdout",
     "output_type": "stream",
     "text": [
      "Collecting git+https://github.com/aws-samples/ml-lineage-helper\n",
      "  Cloning https://github.com/aws-samples/ml-lineage-helper to /tmp/pip-req-build-9o6nsbgc\n",
      "  Running command git clone --filter=blob:none -q https://github.com/aws-samples/ml-lineage-helper /tmp/pip-req-build-9o6nsbgc\n",
      "  Resolved https://github.com/aws-samples/ml-lineage-helper to commit 3562fa35a5480e7f0a06c6de55a26407774a9edb\n",
      "  Preparing metadata (setup.py) ... \u001b[?25ldone\n",
      "\u001b[?25hRequirement already satisfied: numpy in /home/ec2-user/anaconda3/envs/python3/lib/python3.6/site-packages (from ml-lineage-helper==0.1) (1.19.5)\n",
      "Requirement already satisfied: boto3>=1.17.74 in /home/ec2-user/anaconda3/envs/python3/lib/python3.6/site-packages (from ml-lineage-helper==0.1) (1.21.42)\n",
      "Requirement already satisfied: sagemaker>2.49.1 in /home/ec2-user/anaconda3/envs/python3/lib/python3.6/site-packages (from ml-lineage-helper==0.1) (2.86.2)\n",
      "Requirement already satisfied: pandas in /home/ec2-user/anaconda3/envs/python3/lib/python3.6/site-packages (from ml-lineage-helper==0.1) (1.1.5)\n",
      "Requirement already satisfied: networkx in /home/ec2-user/anaconda3/envs/python3/lib/python3.6/site-packages (from ml-lineage-helper==0.1) (2.5)\n",
      "Requirement already satisfied: matplotlib in /home/ec2-user/anaconda3/envs/python3/lib/python3.6/site-packages (from ml-lineage-helper==0.1) (3.3.4)\n",
      "Requirement already satisfied: s3transfer<0.6.0,>=0.5.0 in /home/ec2-user/anaconda3/envs/python3/lib/python3.6/site-packages (from boto3>=1.17.74->ml-lineage-helper==0.1) (0.5.0)\n",
      "Requirement already satisfied: botocore<1.25.0,>=1.24.42 in /home/ec2-user/anaconda3/envs/python3/lib/python3.6/site-packages (from boto3>=1.17.74->ml-lineage-helper==0.1) (1.24.42)\n",
      "Requirement already satisfied: jmespath<2.0.0,>=0.7.1 in /home/ec2-user/anaconda3/envs/python3/lib/python3.6/site-packages (from boto3>=1.17.74->ml-lineage-helper==0.1) (0.10.0)\n",
      "Requirement already satisfied: protobuf>=3.1 in /home/ec2-user/anaconda3/envs/python3/lib/python3.6/site-packages (from sagemaker>2.49.1->ml-lineage-helper==0.1) (3.15.2)\n",
      "Requirement already satisfied: google-pasta in /home/ec2-user/anaconda3/envs/python3/lib/python3.6/site-packages (from sagemaker>2.49.1->ml-lineage-helper==0.1) (0.2.0)\n",
      "Requirement already satisfied: packaging>=20.0 in /home/ec2-user/anaconda3/envs/python3/lib/python3.6/site-packages (from sagemaker>2.49.1->ml-lineage-helper==0.1) (21.3)\n",
      "Requirement already satisfied: pathos in /home/ec2-user/anaconda3/envs/python3/lib/python3.6/site-packages (from sagemaker>2.49.1->ml-lineage-helper==0.1) (0.2.8)\n",
      "Requirement already satisfied: protobuf3-to-dict>=0.1.5 in /home/ec2-user/anaconda3/envs/python3/lib/python3.6/site-packages (from sagemaker>2.49.1->ml-lineage-helper==0.1) (0.1.5)\n",
      "Requirement already satisfied: importlib-metadata>=1.4.0 in /home/ec2-user/anaconda3/envs/python3/lib/python3.6/site-packages (from sagemaker>2.49.1->ml-lineage-helper==0.1) (3.7.0)\n",
      "Requirement already satisfied: smdebug-rulesconfig==1.0.1 in /home/ec2-user/anaconda3/envs/python3/lib/python3.6/site-packages (from sagemaker>2.49.1->ml-lineage-helper==0.1) (1.0.1)\n",
      "Requirement already satisfied: attrs==20.3.0 in /home/ec2-user/anaconda3/envs/python3/lib/python3.6/site-packages (from sagemaker>2.49.1->ml-lineage-helper==0.1) (20.3.0)\n",
      "Requirement already satisfied: python-dateutil>=2.1 in /home/ec2-user/anaconda3/envs/python3/lib/python3.6/site-packages (from matplotlib->ml-lineage-helper==0.1) (2.8.1)\n",
      "Requirement already satisfied: kiwisolver>=1.0.1 in /home/ec2-user/anaconda3/envs/python3/lib/python3.6/site-packages (from matplotlib->ml-lineage-helper==0.1) (1.3.1)\n",
      "Requirement already satisfied: cycler>=0.10 in /home/ec2-user/anaconda3/envs/python3/lib/python3.6/site-packages (from matplotlib->ml-lineage-helper==0.1) (0.10.0)\n",
      "Requirement already satisfied: pyparsing!=2.0.4,!=2.1.2,!=2.1.6,>=2.0.3 in /home/ec2-user/anaconda3/envs/python3/lib/python3.6/site-packages (from matplotlib->ml-lineage-helper==0.1) (2.4.7)\n",
      "Requirement already satisfied: pillow>=6.2.0 in /home/ec2-user/anaconda3/envs/python3/lib/python3.6/site-packages (from matplotlib->ml-lineage-helper==0.1) (8.4.0)\n",
      "Requirement already satisfied: decorator>=4.3.0 in /home/ec2-user/anaconda3/envs/python3/lib/python3.6/site-packages (from networkx->ml-lineage-helper==0.1) (4.4.2)\n",
      "Requirement already satisfied: pytz>=2017.2 in /home/ec2-user/anaconda3/envs/python3/lib/python3.6/site-packages (from pandas->ml-lineage-helper==0.1) (2021.1)\n",
      "Requirement already satisfied: urllib3<1.27,>=1.25.4 in /home/ec2-user/anaconda3/envs/python3/lib/python3.6/site-packages (from botocore<1.25.0,>=1.24.42->boto3>=1.17.74->ml-lineage-helper==0.1) (1.26.8)\n",
      "Requirement already satisfied: six in /home/ec2-user/anaconda3/envs/python3/lib/python3.6/site-packages (from cycler>=0.10->matplotlib->ml-lineage-helper==0.1) (1.15.0)\n",
      "Requirement already satisfied: typing-extensions>=3.6.4 in /home/ec2-user/anaconda3/envs/python3/lib/python3.6/site-packages (from importlib-metadata>=1.4.0->sagemaker>2.49.1->ml-lineage-helper==0.1) (4.0.1)\n",
      "Requirement already satisfied: zipp>=0.5 in /home/ec2-user/anaconda3/envs/python3/lib/python3.6/site-packages (from importlib-metadata>=1.4.0->sagemaker>2.49.1->ml-lineage-helper==0.1) (3.4.0)\n",
      "Requirement already satisfied: multiprocess>=0.70.12 in /home/ec2-user/anaconda3/envs/python3/lib/python3.6/site-packages (from pathos->sagemaker>2.49.1->ml-lineage-helper==0.1) (0.70.12.2)\n",
      "Requirement already satisfied: dill>=0.3.4 in /home/ec2-user/anaconda3/envs/python3/lib/python3.6/site-packages (from pathos->sagemaker>2.49.1->ml-lineage-helper==0.1) (0.3.4)\n",
      "Requirement already satisfied: ppft>=1.6.6.4 in /home/ec2-user/anaconda3/envs/python3/lib/python3.6/site-packages (from pathos->sagemaker>2.49.1->ml-lineage-helper==0.1) (1.6.6.4)\n",
      "Requirement already satisfied: pox>=0.3.0 in /home/ec2-user/anaconda3/envs/python3/lib/python3.6/site-packages (from pathos->sagemaker>2.49.1->ml-lineage-helper==0.1) (0.3.0)\n"
     ]
    }
   ],
   "source": [
    "\n",
    "# pip install directly from the github repo for ml-lineage-helper\n",
    "!pip3 install git+https://github.com/aws-samples/ml-lineage-helper"
   ]
  },
  {
   "cell_type": "code",
   "execution_count": 4,
   "id": "c2ce7da3",
   "metadata": {},
   "outputs": [],
   "source": [
    "from ml_lineage_helper import MLLineageHelper"
   ]
  },
  {
   "cell_type": "markdown",
   "id": "e2b18743",
   "metadata": {},
   "source": [
    "## Setup Logging"
   ]
  },
  {
   "cell_type": "code",
   "execution_count": 5,
   "id": "ddf99349",
   "metadata": {},
   "outputs": [],
   "source": [
    "logger = logging.getLogger('__name__')\n",
    "logging.basicConfig(format=\"%(asctime)s,%(filename)s,%(funcName)s,%(lineno)s,%(levelname)s,p%(process)s,%(message)s\", level=logging.INFO)       \n"
   ]
  },
  {
   "cell_type": "markdown",
   "id": "327d2cb4",
   "metadata": {},
   "source": [
    "## Setup Config Variables\n",
    "Read the metadata (feature group name, model endpoint name etc.) produced by the previous notebooks so that they can be provided as inputs to the lineage tracking module."
   ]
  },
  {
   "cell_type": "code",
   "execution_count": 6,
   "id": "0705cea7",
   "metadata": {},
   "outputs": [
    {
     "name": "stderr",
     "output_type": "stream",
     "text": [
      "2022-06-10 15:16:28,656,utils.py,read_param,130,INFO,p10284,read_param, fpath=../config/endpoint_name, read endpoint_name=hotel-cluster-prediction-ml-model-2022-06-08-19-12-46-266\n",
      "2022-06-10 15:16:28,657,utils.py,read_param,130,INFO,p10284,read_param, fpath=../config/customer_inputs_fg_name, read customer_inputs_fg_name=expedia-customer-inputs-2022-6-8-15-0\n",
      "2022-06-10 15:16:28,658,utils.py,read_param,130,INFO,p10284,read_param, fpath=../config/destinations_fg_name, read destinations_fg_name=expedia-destinations-2022-6-8-15-0\n",
      "2022-06-10 15:16:28,659,utils.py,read_param,130,INFO,p10284,read_param, fpath=../config/customer_inputs_fg_query_string, read customer_inputs_fg_query_string=SELECT * FROM \"expedia-customer-inputs-2022-6-8-15-0-1654700956\" limit 10\n",
      "\n",
      "2022-06-10 15:16:28,660,utils.py,read_param,130,INFO,p10284,read_param, fpath=../config/training_job_name, read training_job_name=hotel-cluster-prediction-ml-model-2022-06-08-19-02-56-809\n",
      "2022-06-10 15:16:28,661,<ipython-input-6-5b8611698109>,<module>,7,INFO,p10284,endpoint_name=hotel-cluster-prediction-ml-model-2022-06-08-19-12-46-266, customer_inputs_fg_name=expedia-customer-inputs-2022-6-8-15-0,\n",
      "customer_inputs_fg_query_string=SELECT * FROM \"expedia-customer-inputs-2022-6-8-15-0-1654700956\" limit 10\n",
      ", training_job_name=hotel-cluster-prediction-ml-model-2022-06-08-19-02-56-809\n"
     ]
    }
   ],
   "source": [
    "endpoint_name = utils.read_param(\"endpoint_name\")\n",
    "customer_inputs_fg_name = utils.read_param(\"customer_inputs_fg_name\")\n",
    "destinations_fg_name = utils.read_param(\"destinations_fg_name\")\n",
    "customer_inputs_fg_query_string = utils.read_param(\"customer_inputs_fg_query_string\")\n",
    "query_string = utils.read_param(\"query_string\")\n",
    "training_job_name = utils.read_param(\"training_job_name\")\n",
    "logger.info(f\"endpoint_name={endpoint_name}, customer_inputs_fg_name={customer_inputs_fg_name},\\n\"\n",
    "            f\"customer_inputs_fg_query_string={customer_inputs_fg_query_string}, training_job_name={training_job_name}\")"
   ]
  },
  {
   "cell_type": "markdown",
   "id": "f37d9ae2",
   "metadata": {},
   "source": [
    "## Setup lineage tracking"
   ]
  },
  {
   "cell_type": "code",
   "execution_count": 7,
   "id": "19f281b1",
   "metadata": {},
   "outputs": [
    {
     "name": "stderr",
     "output_type": "stream",
     "text": [
      "/home/ec2-user/anaconda3/envs/python3/lib/python3.6/site-packages/boto3/compat.py:88: PythonDeprecationWarning: Boto3 will no longer support Python 3.6 starting May 30, 2022. To continue receiving service updates, bug fixes, and security updates please upgrade to Python 3.7 or later. More information can be found here: https://aws.amazon.com/blogs/developer/python-support-policy-updates-for-aws-sdks-and-tools/\n",
      "  warnings.warn(warning, PythonDeprecationWarning)\n"
     ]
    },
    {
     "name": "stdout",
     "output_type": "stream",
     "text": [
      "Using existing artifact, TrainingData: arn:aws:sagemaker:us-east-1:015469603702:artifact/2bc97ef5ae0934b41a2db75c5f52847a\n",
      "\n",
      "Using existing artifact, TestingData: arn:aws:sagemaker:us-east-1:015469603702:artifact/aeae9bb46efeee662e4ddf8c3361d67b\n",
      "\n",
      "code_s3_uri=None, repo_links=None\n",
      "Using existing artifact, Model: arn:aws:sagemaker:us-east-1:015469603702:artifact/02c7aea7625b6e324d2ff681b2e7d208\n",
      "\n",
      "Using existing artifact, fg-expedia-customer-inputs-2022-6-8-15-0: arn:aws:sagemaker:us-east-1:015469603702:artifact/cf065612ab2f1afbc7a0ca8b8f09657c\n",
      "\n",
      "Using existing artifact, fg-expedia-destinations-2022-6-8-15-0: arn:aws:sagemaker:us-east-1:015469603702:artifact/93e85b411a5d6264980623ddc63f4a72\n",
      "\n",
      "Association already exists between arn:aws:sagemaker:us-east-1:015469603702:artifact/2bc97ef5ae0934b41a2db75c5f52847a and arn:aws:sagemaker:us-east-1:015469603702:experiment-trial-component/hotel-cluster-prediction-ml-model-2022-06-08-19-02-56-809-aws-training-job\n",
      "\n",
      "Association already exists between arn:aws:sagemaker:us-east-1:015469603702:artifact/aeae9bb46efeee662e4ddf8c3361d67b and arn:aws:sagemaker:us-east-1:015469603702:experiment-trial-component/hotel-cluster-prediction-ml-model-2022-06-08-19-02-56-809-aws-training-job\n",
      "\n",
      "Association already exists between arn:aws:sagemaker:us-east-1:015469603702:experiment-trial-component/hotel-cluster-prediction-ml-model-2022-06-08-19-02-56-809-aws-training-job and arn:aws:sagemaker:us-east-1:015469603702:artifact/02c7aea7625b6e324d2ff681b2e7d208\n",
      "\n",
      "Association already exists between arn:aws:sagemaker:us-east-1:015469603702:artifact/cf065612ab2f1afbc7a0ca8b8f09657c and arn:aws:sagemaker:us-east-1:015469603702:artifact/2bc97ef5ae0934b41a2db75c5f52847a\n",
      "\n",
      "Association already exists between arn:aws:sagemaker:us-east-1:015469603702:artifact/93e85b411a5d6264980623ddc63f4a72 and arn:aws:sagemaker:us-east-1:015469603702:artifact/2bc97ef5ae0934b41a2db75c5f52847a\n",
      "\n",
      "Association already exists between arn:aws:sagemaker:us-east-1:015469603702:artifact/cf065612ab2f1afbc7a0ca8b8f09657c and arn:aws:sagemaker:us-east-1:015469603702:artifact/aeae9bb46efeee662e4ddf8c3361d67b\n",
      "\n",
      "Association already exists between arn:aws:sagemaker:us-east-1:015469603702:artifact/93e85b411a5d6264980623ddc63f4a72 and arn:aws:sagemaker:us-east-1:015469603702:artifact/aeae9bb46efeee662e4ddf8c3361d67b\n",
      "\n",
      "source_name=None\n",
      "source name was not set, setting it to TestingData\n",
      "source_name=None\n",
      "source name was not set, setting it to TrainingData\n",
      "source_name=None\n",
      "source name was not set, setting it to None\n",
      "upstream association source_name=None\n",
      "upstream association source_name=None\n",
      "upstream association source name set to TestingData\n",
      "upstream association source_name=None\n",
      "upstream association source name set to TrainingData\n",
      "upstream association source_name=None\n",
      "upstream association source name set to None\n",
      "upstream association source_name=None\n",
      "upstream association source_name=None\n",
      "upstream association source_name=None\n",
      "upstream association source_name=None\n"
     ]
    }
   ],
   "source": [
    "# Model name is same as endpoint name in this example\n",
    "ml_lineage = MLLineageHelper()\n",
    "lineage = ml_lineage.create_ml_lineage(training_job_name, \n",
    "                                       model_name=endpoint_name,\n",
    "                                       query=customer_inputs_fg_query_string,\n",
    "                                       feature_group_names=[customer_inputs_fg_name, destinations_fg_name], \n",
    "                                       sagemaker_processing_job_description=None\n",
    "                                      )"
   ]
  },
  {
   "cell_type": "markdown",
   "id": "285422f2",
   "metadata": {},
   "source": [
    "## Lineage Information\n",
    "Lineage information is provided both in tabular form and graphical form as shown below."
   ]
  },
  {
   "cell_type": "code",
   "execution_count": 8,
   "id": "6334dec1",
   "metadata": {},
   "outputs": [
    {
     "data": {
      "text/html": [
       "<div>\n",
       "<style scoped>\n",
       "    .dataframe tbody tr th:only-of-type {\n",
       "        vertical-align: middle;\n",
       "    }\n",
       "\n",
       "    .dataframe tbody tr th {\n",
       "        vertical-align: top;\n",
       "    }\n",
       "\n",
       "    .dataframe thead th {\n",
       "        text-align: right;\n",
       "    }\n",
       "</style>\n",
       "<table border=\"1\" class=\"dataframe\">\n",
       "  <thead>\n",
       "    <tr style=\"text-align: right;\">\n",
       "      <th></th>\n",
       "      <th>Name/Source</th>\n",
       "      <th>Association</th>\n",
       "      <th>Name/Destination</th>\n",
       "      <th>Artifact Source ARN</th>\n",
       "      <th>Artifact Destination ARN</th>\n",
       "      <th>Source URI</th>\n",
       "      <th>Base64 Feature Store Query String</th>\n",
       "      <th>Git URL</th>\n",
       "    </tr>\n",
       "  </thead>\n",
       "  <tbody>\n",
       "    <tr>\n",
       "      <th>0</th>\n",
       "      <td>hotel-cluster-prediction-ml-model-2022-06-08-1...</td>\n",
       "      <td>Produced</td>\n",
       "      <td>Model</td>\n",
       "      <td>arn:aws:sagemaker:us-east-1:015469603702:exper...</td>\n",
       "      <td>arn:aws:sagemaker:us-east-1:015469603702:artif...</td>\n",
       "      <td>None</td>\n",
       "      <td>None</td>\n",
       "      <td>None</td>\n",
       "    </tr>\n",
       "    <tr>\n",
       "      <th>1</th>\n",
       "      <td>TestingData</td>\n",
       "      <td>ContributedTo</td>\n",
       "      <td>hotel-cluster-prediction-ml-model-2022-06-08-1...</td>\n",
       "      <td>arn:aws:sagemaker:us-east-1:015469603702:artif...</td>\n",
       "      <td>arn:aws:sagemaker:us-east-1:015469603702:exper...</td>\n",
       "      <td>s3://expedia-customer-behavior-data-195cbf60/d...</td>\n",
       "      <td>None</td>\n",
       "      <td>None</td>\n",
       "    </tr>\n",
       "    <tr>\n",
       "      <th>2</th>\n",
       "      <td>TrainingData</td>\n",
       "      <td>ContributedTo</td>\n",
       "      <td>hotel-cluster-prediction-ml-model-2022-06-08-1...</td>\n",
       "      <td>arn:aws:sagemaker:us-east-1:015469603702:artif...</td>\n",
       "      <td>arn:aws:sagemaker:us-east-1:015469603702:exper...</td>\n",
       "      <td>s3://expedia-customer-behavior-data-195cbf60/d...</td>\n",
       "      <td>U0VMRUNUICogRlJPTSAiZXhwZWRpYS1jdXN0b21lci1pbn...</td>\n",
       "      <td>None</td>\n",
       "    </tr>\n",
       "    <tr>\n",
       "      <th>3</th>\n",
       "      <td>fg-expedia-destinations-2022-6-8-15-0</td>\n",
       "      <td>ContributedTo</td>\n",
       "      <td>TestingData</td>\n",
       "      <td>arn:aws:sagemaker:us-east-1:015469603702:artif...</td>\n",
       "      <td>arn:aws:sagemaker:us-east-1:015469603702:artif...</td>\n",
       "      <td>arn:aws:sagemaker:us-east-1:015469603702:featu...</td>\n",
       "      <td>None</td>\n",
       "      <td>None</td>\n",
       "    </tr>\n",
       "    <tr>\n",
       "      <th>4</th>\n",
       "      <td>fg-expedia-customer-inputs-2022-6-8-15-0</td>\n",
       "      <td>ContributedTo</td>\n",
       "      <td>TestingData</td>\n",
       "      <td>arn:aws:sagemaker:us-east-1:015469603702:artif...</td>\n",
       "      <td>arn:aws:sagemaker:us-east-1:015469603702:artif...</td>\n",
       "      <td>arn:aws:sagemaker:us-east-1:015469603702:featu...</td>\n",
       "      <td>None</td>\n",
       "      <td>None</td>\n",
       "    </tr>\n",
       "    <tr>\n",
       "      <th>5</th>\n",
       "      <td>fg-expedia-destinations-2022-6-8-15-0</td>\n",
       "      <td>ContributedTo</td>\n",
       "      <td>TrainingData</td>\n",
       "      <td>arn:aws:sagemaker:us-east-1:015469603702:artif...</td>\n",
       "      <td>arn:aws:sagemaker:us-east-1:015469603702:artif...</td>\n",
       "      <td>arn:aws:sagemaker:us-east-1:015469603702:featu...</td>\n",
       "      <td>None</td>\n",
       "      <td>None</td>\n",
       "    </tr>\n",
       "    <tr>\n",
       "      <th>6</th>\n",
       "      <td>fg-expedia-customer-inputs-2022-6-8-15-0</td>\n",
       "      <td>ContributedTo</td>\n",
       "      <td>TrainingData</td>\n",
       "      <td>arn:aws:sagemaker:us-east-1:015469603702:artif...</td>\n",
       "      <td>arn:aws:sagemaker:us-east-1:015469603702:artif...</td>\n",
       "      <td>arn:aws:sagemaker:us-east-1:015469603702:featu...</td>\n",
       "      <td>None</td>\n",
       "      <td>None</td>\n",
       "    </tr>\n",
       "  </tbody>\n",
       "</table>\n",
       "</div>"
      ],
      "text/plain": [
       "                                         Name/Source    Association  \\\n",
       "0  hotel-cluster-prediction-ml-model-2022-06-08-1...       Produced   \n",
       "1                                        TestingData  ContributedTo   \n",
       "2                                       TrainingData  ContributedTo   \n",
       "3              fg-expedia-destinations-2022-6-8-15-0  ContributedTo   \n",
       "4           fg-expedia-customer-inputs-2022-6-8-15-0  ContributedTo   \n",
       "5              fg-expedia-destinations-2022-6-8-15-0  ContributedTo   \n",
       "6           fg-expedia-customer-inputs-2022-6-8-15-0  ContributedTo   \n",
       "\n",
       "                                    Name/Destination  \\\n",
       "0                                              Model   \n",
       "1  hotel-cluster-prediction-ml-model-2022-06-08-1...   \n",
       "2  hotel-cluster-prediction-ml-model-2022-06-08-1...   \n",
       "3                                        TestingData   \n",
       "4                                        TestingData   \n",
       "5                                       TrainingData   \n",
       "6                                       TrainingData   \n",
       "\n",
       "                                 Artifact Source ARN  \\\n",
       "0  arn:aws:sagemaker:us-east-1:015469603702:exper...   \n",
       "1  arn:aws:sagemaker:us-east-1:015469603702:artif...   \n",
       "2  arn:aws:sagemaker:us-east-1:015469603702:artif...   \n",
       "3  arn:aws:sagemaker:us-east-1:015469603702:artif...   \n",
       "4  arn:aws:sagemaker:us-east-1:015469603702:artif...   \n",
       "5  arn:aws:sagemaker:us-east-1:015469603702:artif...   \n",
       "6  arn:aws:sagemaker:us-east-1:015469603702:artif...   \n",
       "\n",
       "                            Artifact Destination ARN  \\\n",
       "0  arn:aws:sagemaker:us-east-1:015469603702:artif...   \n",
       "1  arn:aws:sagemaker:us-east-1:015469603702:exper...   \n",
       "2  arn:aws:sagemaker:us-east-1:015469603702:exper...   \n",
       "3  arn:aws:sagemaker:us-east-1:015469603702:artif...   \n",
       "4  arn:aws:sagemaker:us-east-1:015469603702:artif...   \n",
       "5  arn:aws:sagemaker:us-east-1:015469603702:artif...   \n",
       "6  arn:aws:sagemaker:us-east-1:015469603702:artif...   \n",
       "\n",
       "                                          Source URI  \\\n",
       "0                                               None   \n",
       "1  s3://expedia-customer-behavior-data-195cbf60/d...   \n",
       "2  s3://expedia-customer-behavior-data-195cbf60/d...   \n",
       "3  arn:aws:sagemaker:us-east-1:015469603702:featu...   \n",
       "4  arn:aws:sagemaker:us-east-1:015469603702:featu...   \n",
       "5  arn:aws:sagemaker:us-east-1:015469603702:featu...   \n",
       "6  arn:aws:sagemaker:us-east-1:015469603702:featu...   \n",
       "\n",
       "                   Base64 Feature Store Query String Git URL  \n",
       "0                                               None    None  \n",
       "1                                               None    None  \n",
       "2  U0VMRUNUICogRlJPTSAiZXhwZWRpYS1jdXN0b21lci1pbn...    None  \n",
       "3                                               None    None  \n",
       "4                                               None    None  \n",
       "5                                               None    None  \n",
       "6                                               None    None  "
      ]
     },
     "execution_count": 8,
     "metadata": {},
     "output_type": "execute_result"
    }
   ],
   "source": [
    "lineage"
   ]
  },
  {
   "cell_type": "code",
   "execution_count": 9,
   "id": "fa040a3a",
   "metadata": {},
   "outputs": [
    {
     "data": {
      "image/png": "[encoded data removed]",
      "text/plain": [
       "<Figure size 1152x1008 with 1 Axes>"
      ]
     },
     "metadata": {},
     "output_type": "display_data"
    }
   ],
   "source": [
    "# Visual Representation of the ML Lineage\n",
    "ml_lineage.graph()"
   ]
  },
  {
   "cell_type": "code",
   "execution_count": null,
   "id": "37c4fea7",
   "metadata": {},
   "outputs": [],
   "source": []
  }
 ],
 "metadata": {
  "kernelspec": {
   "display_name": "conda_python3",
   "language": "python",
   "name": "conda_python3"
  },
  "language_info": {
   "codemirror_mode": {
    "name": "ipython",
    "version": 3
   },
   "file_extension": ".py",
   "mimetype": "text/x-python",
   "name": "python",
   "nbconvert_exporter": "python",
   "pygments_lexer": "ipython3",
   "version": "3.6.13"
  }
 },
 "nbformat": 4,
 "nbformat_minor": 5
}
